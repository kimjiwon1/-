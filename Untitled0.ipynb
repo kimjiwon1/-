{
  "nbformat": 4,
  "nbformat_minor": 0,
  "metadata": {
    "colab": {
      "name": "Untitled0.ipynb",
      "provenance": [],
      "authorship_tag": "ABX9TyPiuEnGXVOXvD7TOAFQnySP",
      "include_colab_link": true
    },
    "kernelspec": {
      "name": "python3",
      "display_name": "Python 3"
    }
  },
  "cells": [
    {
      "cell_type": "markdown",
      "metadata": {
        "id": "view-in-github",
        "colab_type": "text"
      },
      "source": [
        "<a href=\"https://colab.research.google.com/github/kimjiwon1/-/blob/master/Untitled0.ipynb\" target=\"_parent\"><img src=\"https://colab.research.google.com/assets/colab-badge.svg\" alt=\"Open In Colab\"/></a>"
      ]
    },
    {
      "cell_type": "markdown",
      "metadata": {
        "id": "dRpPpYJC-Kdm",
        "colab_type": "text"
      },
      "source": [
        "1. 언어    \n",
        "  인공신경망번역(NMT)기술을 사용하는 *'파파고'*      \n",
        "  * 인공신경망번역(NMT) : 단어나 구문 단위를 쪼개지 않고, 문장 단위로 번역   \n",
        "\n",
        "   \n",
        "2. 음성   \n",
        "  음성인식(ASR), 음성이해(NLU), 음성합성(TTS)기술을 이용한 음성인식 비서 *'알렉사'*     \n",
        "  * 음성인식(ASR) : 사용자의 음성명령을 컴퓨터가 이해할 수 있는 언어로 자동변환   \n",
        "  * 음성이해(NLU) : 주어진 TEXT의 의미를 파악   \n",
        "  * 음성합성(TTS) : TEXT를 음성으로 변환   \n",
        "\n",
        "   \n",
        "3. 이미지   \n",
        "  합성곱신경망(CNN)기술을 활용한 *'네이버 이미지검색'*   \n",
        "  * 합성곱신경망(CNN) : 방대한 데이터 속에서 일정한 패턴을 파악해내는 기술   \n",
        "     \n",
        "   \n",
        "4. 자율주행   \n",
        "  *운전자 보조 시스템(ADAS)*   \n",
        "  * 운전자 보조 시스템(ADAS) : 운전 중 발생할 수 있는 상황 가운데 일부를 차량 스스로 인지하고 상황을 판단, 기계장치를 제어하는 기술      \n",
        "    + 주행 조향 보조 시스템(LKAS) : 자동차가 차로를 이탈할 경우, 경보와 함께 자동으로 운전대를 조향하여 차선을 유지할 수 있도록 해주는 기능\n",
        "    + 어드밴스드 스마트 크루즈 컨트롤(ASCC) : 카메라와 센서를 통해 앞 차량과의 거리 조절과 그에 따른 유동적인 속도 조절을 가능케 하는 기능  "
      ]
    }
  ]
}